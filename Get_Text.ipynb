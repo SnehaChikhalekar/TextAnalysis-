{
 "cells": [
  {
   "cell_type": "markdown",
   "metadata": {},
   "source": [
    "## PDF to text form"
   ]
  },
  {
   "cell_type": "code",
   "execution_count": 1,
   "metadata": {},
   "outputs": [
    {
     "data": {
      "text/plain": [
       "' This script reads the government report, extracts\\ncleans and saves all the text so it can be analyzed in the next scripts'"
      ]
     },
     "execution_count": 1,
     "metadata": {},
     "output_type": "execute_result"
    }
   ],
   "source": [
    "\"\"\" This script reads the government report, extracts\n",
    "cleans and saves all the text so it can be analyzed in the next scripts\"\"\""
   ]
  },
  {
   "cell_type": "code",
   "execution_count": 2,
   "metadata": {},
   "outputs": [],
   "source": [
    "import re"
   ]
  },
  {
   "cell_type": "code",
   "execution_count": 3,
   "metadata": {},
   "outputs": [],
   "source": [
    "import PyPDF2"
   ]
  },
  {
   "cell_type": "code",
   "execution_count": 4,
   "metadata": {},
   "outputs": [],
   "source": [
    "## Get the mapping of the weird characters"
   ]
  },
  {
   "cell_type": "code",
   "execution_count": 5,
   "metadata": {},
   "outputs": [],
   "source": [
    "CHARACTERS={\n",
    "    \"ç\": \"Á\",\n",
    "    \"⁄\": \"á\",\n",
    "    \"…\": \"É\",\n",
    "    \"”\": \"é\",\n",
    "    \"ê\": \"Í\",\n",
    "    \"™\": 'í',\n",
    "    \"î\": \"Ó\",\n",
    "    \"Š\": \"ó\",\n",
    "    \"ı\": \"ö\",\n",
    "    \"ò\": \"Ú\",\n",
    "    \"œ\": \"ú\",\n",
    "    \"Œ\": \"ñ\",\n",
    "    \"Ô\": \"‘\",\n",
    "    \"Õ\": \"’\",\n",
    "    \"¥\": \"• \",\n",
    "    \"Ñ\": \"—\",\n",
    "    \"¨\": \"®\",\n",
    "    \"«\": \"´\",\n",
    "    \"Ò\": \"“\"\n",
    "}"
   ]
  },
  {
   "cell_type": "code",
   "execution_count": 23,
   "metadata": {},
   "outputs": [],
   "source": [
    "def extract_text():\n",
    "    \"\"\" Get the PDF data into text form\"\"\"\n",
    "    reader=PyPDF2.PdfFileReader(\"informe.pdf\")\n",
    "    full_text=\"\"\n",
    "    \n",
    "    pdf_page_number=3\n",
    "    \n",
    "    ## As the main content was spread over the rane of 14 to 327\n",
    "    for i in range(14,327):\n",
    "        if pdf_page_number <=9: ## One digit page\n",
    "            page_text=reader.getPage(i).extractText().strip()[1:]\n",
    "        elif pdf_page_number >=10 and pdf_page_number <=99:\n",
    "            page_text=reader.getPage(i).extractText().strip()[2:]\n",
    "        else:\n",
    "            page_text=reader.getPage(i).extractText().strip()[3:]\n",
    "            \n",
    "        full_text+=page_text.replace(\"\\n\",\"\")\n",
    "        pdf_page_number+=1\n",
    "    for item,replacement in CHARACTERS.items():\n",
    "        full_text=full_text.replace(item,replacement)\n",
    "    full_text=re.sub(\" +\",\" \",full_text)\n",
    "    \n",
    "    \n",
    "    with open(\"transcript_clean_new.txt\",\"w\",encoding=\"utf-8\") as temp_file:\n",
    "        temp_file.write(full_text)\n",
    "        \n",
    "    \n"
   ]
  },
  {
   "cell_type": "code",
   "execution_count": 24,
   "metadata": {},
   "outputs": [],
   "source": [
    "extract_text()"
   ]
  },
  {
   "cell_type": "code",
   "execution_count": null,
   "metadata": {},
   "outputs": [],
   "source": []
  }
 ],
 "metadata": {
  "kernelspec": {
   "display_name": "Python 3",
   "language": "python",
   "name": "python3"
  },
  "language_info": {
   "codemirror_mode": {
    "name": "ipython",
    "version": 3
   },
   "file_extension": ".py",
   "mimetype": "text/x-python",
   "name": "python",
   "nbconvert_exporter": "python",
   "pygments_lexer": "ipython3",
   "version": "3.7.1"
  },
  "toc": {
   "base_numbering": 1,
   "nav_menu": {},
   "number_sections": true,
   "sideBar": true,
   "skip_h1_title": false,
   "title_cell": "Table of Contents",
   "title_sidebar": "Contents",
   "toc_cell": false,
   "toc_position": {},
   "toc_section_display": true,
   "toc_window_display": true
  }
 },
 "nbformat": 4,
 "nbformat_minor": 2
}
