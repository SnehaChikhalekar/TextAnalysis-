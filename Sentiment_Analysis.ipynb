{
 "cells": [
  {
   "cell_type": "code",
   "execution_count": 1,
   "metadata": {},
   "outputs": [],
   "source": [
    "import pandas as pd\n",
    "import numpy as np\n",
    "import nltk\n",
    "import re\n",
    "pd.set_option('display.max_colwidth', -1)"
   ]
  },
  {
   "cell_type": "markdown",
   "metadata": {},
   "source": [
    "## Get the Sentiment score as per the Sentences "
   ]
  },
  {
   "cell_type": "code",
   "execution_count": 2,
   "metadata": {},
   "outputs": [],
   "source": [
    "sentences=pd.read_csv(\"sentences_new.csv\")"
   ]
  },
  {
   "cell_type": "code",
   "execution_count": 3,
   "metadata": {},
   "outputs": [
    {
     "data": {
      "text/plain": [
       "(33, 2)"
      ]
     },
     "execution_count": 3,
     "metadata": {},
     "output_type": "execute_result"
    }
   ],
   "source": [
    "sentences.shape"
   ]
  },
  {
   "cell_type": "code",
   "execution_count": 4,
   "metadata": {},
   "outputs": [
    {
     "data": {
      "text/plain": [
       "Index(['text', 'score'], dtype='object')"
      ]
     },
     "execution_count": 4,
     "metadata": {},
     "output_type": "execute_result"
    }
   ],
   "source": [
    "sentences.columns"
   ]
  },
  {
   "cell_type": "code",
   "execution_count": 5,
   "metadata": {},
   "outputs": [
    {
     "data": {
      "text/plain": [
       "-1    12\n",
       " 0    9 \n",
       "-2    5 \n",
       " 1    3 \n",
       "-7    1 \n",
       "-5    1 \n",
       "-4    1 \n",
       " 2    1 \n",
       "Name: score, dtype: int64"
      ]
     },
     "execution_count": 5,
     "metadata": {},
     "output_type": "execute_result"
    }
   ],
   "source": [
    "sentences['score'].value_counts()"
   ]
  },
  {
   "cell_type": "code",
   "execution_count": 6,
   "metadata": {},
   "outputs": [],
   "source": [
    "target=[]\n",
    "for i in sentences['score']:\n",
    "    if i >=0:\n",
    "        target.append(1)\n",
    "    else:\n",
    "        target.append(0)"
   ]
  },
  {
   "cell_type": "code",
   "execution_count": 7,
   "metadata": {},
   "outputs": [],
   "source": [
    "sentences['target']=target"
   ]
  },
  {
   "cell_type": "code",
   "execution_count": 8,
   "metadata": {},
   "outputs": [
    {
     "data": {
      "text/plain": [
       "0    20\n",
       "1    13\n",
       "Name: target, dtype: int64"
      ]
     },
     "execution_count": 8,
     "metadata": {},
     "output_type": "execute_result"
    }
   ],
   "source": [
    "sentences['target'].value_counts()"
   ]
  },
  {
   "cell_type": "code",
   "execution_count": 9,
   "metadata": {},
   "outputs": [],
   "source": [
    "df=sentences"
   ]
  },
  {
   "cell_type": "code",
   "execution_count": 10,
   "metadata": {},
   "outputs": [
    {
     "data": {
      "text/html": [
       "<div>\n",
       "<style scoped>\n",
       "    .dataframe tbody tr th:only-of-type {\n",
       "        vertical-align: middle;\n",
       "    }\n",
       "\n",
       "    .dataframe tbody tr th {\n",
       "        vertical-align: top;\n",
       "    }\n",
       "\n",
       "    .dataframe thead th {\n",
       "        text-align: right;\n",
       "    }\n",
       "</style>\n",
       "<table border=\"1\" class=\"dataframe\">\n",
       "  <thead>\n",
       "    <tr style=\"text-align: right;\">\n",
       "      <th></th>\n",
       "      <th>text</th>\n",
       "      <th>score</th>\n",
       "      <th>target</th>\n",
       "    </tr>\n",
       "  </thead>\n",
       "  <tbody>\n",
       "    <tr>\n",
       "      <th>0</th>\n",
       "      <td>POLÍTICA Y GOBIERNO La Cuarta Transformación ha implicado cambios sustantivos en materia legislativa que fortalecen a las instituciones de gobierno y la toma de decisiones del Ejecutivo Federal.</td>\n",
       "      <td>-1</td>\n",
       "      <td>0</td>\n",
       "    </tr>\n",
       "    <tr>\n",
       "      <th>1</th>\n",
       "      <td>Sin duda, también ha requerido una intensa actividad jurídica que otorga certeza y transparencia a los asuntos del Gobierno Federal.</td>\n",
       "      <td>-1</td>\n",
       "      <td>0</td>\n",
       "    </tr>\n",
       "    <tr>\n",
       "      <th>2</th>\n",
       "      <td>A la par, se ha garantizado la gobernabilidad con los tres órdenes de gobierno y se han encauzado nuevas formas de operación con el sector social.</td>\n",
       "      <td>0</td>\n",
       "      <td>1</td>\n",
       "    </tr>\n",
       "    <tr>\n",
       "      <th>3</th>\n",
       "      <td>Algunas de ellas incluyen el privilegiar la defensa de los derechos humanos, formular acciones para mejorar la libertad religiosa y transformar a la Comisión Nacional para el Desarrollo de los Pueblos Indígenas en el nuevo Instituto Nacional de los Pueblos Indígenas.</td>\n",
       "      <td>1</td>\n",
       "      <td>1</td>\n",
       "    </tr>\n",
       "    <tr>\n",
       "      <th>4</th>\n",
       "      <td>ERRADICAR LA CORRUPCIÓN, EL DISPENDIO Y LA FRIVOLIDAD</td>\n",
       "      <td>-1</td>\n",
       "      <td>0</td>\n",
       "    </tr>\n",
       "  </tbody>\n",
       "</table>\n",
       "</div>"
      ],
      "text/plain": [
       "                                                                                                                                                                                                                                                                          text  \\\n",
       "0  POLÍTICA Y GOBIERNO La Cuarta Transformación ha implicado cambios sustantivos en materia legislativa que fortalecen a las instituciones de gobierno y la toma de decisiones del Ejecutivo Federal.                                                                            \n",
       "1  Sin duda, también ha requerido una intensa actividad jurídica que otorga certeza y transparencia a los asuntos del Gobierno Federal.                                                                                                                                          \n",
       "2  A la par, se ha garantizado la gobernabilidad con los tres órdenes de gobierno y se han encauzado nuevas formas de operación con el sector social.                                                                                                                            \n",
       "3  Algunas de ellas incluyen el privilegiar la defensa de los derechos humanos, formular acciones para mejorar la libertad religiosa y transformar a la Comisión Nacional para el Desarrollo de los Pueblos Indígenas en el nuevo Instituto Nacional de los Pueblos Indígenas.   \n",
       "4  ERRADICAR LA CORRUPCIÓN, EL DISPENDIO Y LA FRIVOLIDAD                                                                                                                                                                                                                         \n",
       "\n",
       "   score  target  \n",
       "0 -1      0       \n",
       "1 -1      0       \n",
       "2  0      1       \n",
       "3  1      1       \n",
       "4 -1      0       "
      ]
     },
     "execution_count": 10,
     "metadata": {},
     "output_type": "execute_result"
    }
   ],
   "source": [
    "df.head()"
   ]
  },
  {
   "cell_type": "markdown",
   "metadata": {},
   "source": [
    "## Train-Test Split"
   ]
  },
  {
   "cell_type": "code",
   "execution_count": 12,
   "metadata": {},
   "outputs": [],
   "source": [
    "from sklearn.model_selection import train_test_split\n",
    "X_train, X_test, y_train, y_test = train_test_split(df.text, df.target, stratify = df.target, test_size = 0.3, random_state = 0)"
   ]
  },
  {
   "cell_type": "code",
   "execution_count": 13,
   "metadata": {},
   "outputs": [],
   "source": [
    "from sklearn.feature_extraction.text import TfidfVectorizer\n",
    "tfidfVec = TfidfVectorizer().fit(X_train)"
   ]
  },
  {
   "cell_type": "code",
   "execution_count": 14,
   "metadata": {},
   "outputs": [],
   "source": [
    "X_train = tfidfVec.transform(X_train)\n",
    "X_test = tfidfVec.transform(X_test)"
   ]
  },
  {
   "cell_type": "markdown",
   "metadata": {},
   "source": [
    "## Model Building"
   ]
  },
  {
   "cell_type": "markdown",
   "metadata": {},
   "source": [
    "### Multimonial Naive Bayes"
   ]
  },
  {
   "cell_type": "code",
   "execution_count": 16,
   "metadata": {},
   "outputs": [
    {
     "data": {
      "text/plain": [
       "0    20\n",
       "1    13\n",
       "Name: target, dtype: int64"
      ]
     },
     "execution_count": 16,
     "metadata": {},
     "output_type": "execute_result"
    }
   ],
   "source": [
    "df.target.value_counts()"
   ]
  },
  {
   "cell_type": "code",
   "execution_count": 17,
   "metadata": {},
   "outputs": [
    {
     "name": "stdout",
     "output_type": "stream",
     "text": [
      "Statistics for classification are as follows: \n",
      "\n",
      "              precision    recall  f1-score   support\n",
      "\n",
      "           0       0.60      1.00      0.75         6\n",
      "           1       0.00      0.00      0.00         4\n",
      "\n",
      "   micro avg       0.60      0.60      0.60        10\n",
      "   macro avg       0.30      0.50      0.37        10\n",
      "weighted avg       0.36      0.60      0.45        10\n",
      "\n",
      "\n",
      "ROC AUC Score 0.5\n"
     ]
    },
    {
     "name": "stderr",
     "output_type": "stream",
     "text": [
      "C:\\Users\\sneha chikhalekar\\Anaconda3\\lib\\site-packages\\sklearn\\metrics\\classification.py:1143: UndefinedMetricWarning: Precision and F-score are ill-defined and being set to 0.0 in labels with no predicted samples.\n",
      "  'precision', 'predicted', average, warn_for)\n"
     ]
    }
   ],
   "source": [
    "from sklearn.naive_bayes import MultinomialNB\n",
    "\n",
    "from sklearn.metrics import roc_auc_score, classification_report\n",
    "MNB = MultinomialNB().fit(X_train, y_train)\n",
    "y_pred = MNB.predict(X_test)\n",
    "\n",
    "print(\"Statistics for classification are as follows: \\n\\n{}\\n\".format(classification_report(y_test, y_pred)))\n",
    "print(\"ROC AUC Score {}\".format(roc_auc_score(y_test, y_pred)))"
   ]
  },
  {
   "cell_type": "markdown",
   "metadata": {},
   "source": [
    "### Logistic Regression"
   ]
  },
  {
   "cell_type": "code",
   "execution_count": 19,
   "metadata": {},
   "outputs": [
    {
     "name": "stderr",
     "output_type": "stream",
     "text": [
      "C:\\Users\\sneha chikhalekar\\Anaconda3\\lib\\site-packages\\sklearn\\linear_model\\logistic.py:433: FutureWarning: Default solver will be changed to 'lbfgs' in 0.22. Specify a solver to silence this warning.\n",
      "  FutureWarning)\n"
     ]
    }
   ],
   "source": [
    "from sklearn.linear_model import LogisticRegression\n",
    "from sklearn.metrics import roc_curve\n",
    "\n",
    "clfr = LogisticRegression(C = 100)\n",
    "clfr.fit(X_train, y_train)\n",
    "\n",
    "y_pred_proba = clfr.predict_proba(X_test)\n",
    "y_prob = []\n",
    "for i in y_pred_proba:\n",
    "    y_prob.append(i[1])\n",
    "\n",
    "fpr, tpr, thr = roc_curve(y_test, y_prob, pos_label = 1)"
   ]
  },
  {
   "cell_type": "code",
   "execution_count": 20,
   "metadata": {},
   "outputs": [
    {
     "data": {
      "text/html": [
       "<div>\n",
       "<style scoped>\n",
       "    .dataframe tbody tr th:only-of-type {\n",
       "        vertical-align: middle;\n",
       "    }\n",
       "\n",
       "    .dataframe tbody tr th {\n",
       "        vertical-align: top;\n",
       "    }\n",
       "\n",
       "    .dataframe thead th {\n",
       "        text-align: right;\n",
       "    }\n",
       "</style>\n",
       "<table border=\"1\" class=\"dataframe\">\n",
       "  <thead>\n",
       "    <tr style=\"text-align: right;\">\n",
       "      <th></th>\n",
       "      <th>FPR</th>\n",
       "      <th>TPR</th>\n",
       "      <th>Threshold</th>\n",
       "      <th>F1</th>\n",
       "    </tr>\n",
       "  </thead>\n",
       "  <tbody>\n",
       "    <tr>\n",
       "      <th>0</th>\n",
       "      <td>0.000000</td>\n",
       "      <td>0.00</td>\n",
       "      <td>1.824139</td>\n",
       "      <td>0.000000</td>\n",
       "    </tr>\n",
       "    <tr>\n",
       "      <th>1</th>\n",
       "      <td>0.000000</td>\n",
       "      <td>0.25</td>\n",
       "      <td>0.824139</td>\n",
       "      <td>0.400000</td>\n",
       "    </tr>\n",
       "    <tr>\n",
       "      <th>2</th>\n",
       "      <td>0.000000</td>\n",
       "      <td>0.50</td>\n",
       "      <td>0.689471</td>\n",
       "      <td>0.666667</td>\n",
       "    </tr>\n",
       "    <tr>\n",
       "      <th>3</th>\n",
       "      <td>0.333333</td>\n",
       "      <td>0.50</td>\n",
       "      <td>0.299262</td>\n",
       "      <td>0.571429</td>\n",
       "    </tr>\n",
       "    <tr>\n",
       "      <th>4</th>\n",
       "      <td>0.333333</td>\n",
       "      <td>0.75</td>\n",
       "      <td>0.261394</td>\n",
       "      <td>0.705882</td>\n",
       "    </tr>\n",
       "  </tbody>\n",
       "</table>\n",
       "</div>"
      ],
      "text/plain": [
       "        FPR   TPR  Threshold        F1\n",
       "0  0.000000  0.00  1.824139   0.000000\n",
       "1  0.000000  0.25  0.824139   0.400000\n",
       "2  0.000000  0.50  0.689471   0.666667\n",
       "3  0.333333  0.50  0.299262   0.571429\n",
       "4  0.333333  0.75  0.261394   0.705882"
      ]
     },
     "execution_count": 20,
     "metadata": {},
     "output_type": "execute_result"
    }
   ],
   "source": [
    "ROC_AUC_DF = pd.DataFrame({'FPR':fpr, 'TPR':tpr, 'Threshold':thr})\n",
    "ROC_AUC_DF['F1'] = 2 * (1 - ROC_AUC_DF.FPR) * ROC_AUC_DF.TPR / (ROC_AUC_DF.TPR + 1 - ROC_AUC_DF.FPR)\n",
    "ROC_AUC_DF.head()"
   ]
  },
  {
   "cell_type": "code",
   "execution_count": 21,
   "metadata": {},
   "outputs": [
    {
     "data": {
      "text/html": [
       "<div>\n",
       "<style scoped>\n",
       "    .dataframe tbody tr th:only-of-type {\n",
       "        vertical-align: middle;\n",
       "    }\n",
       "\n",
       "    .dataframe tbody tr th {\n",
       "        vertical-align: top;\n",
       "    }\n",
       "\n",
       "    .dataframe thead th {\n",
       "        text-align: right;\n",
       "    }\n",
       "</style>\n",
       "<table border=\"1\" class=\"dataframe\">\n",
       "  <thead>\n",
       "    <tr style=\"text-align: right;\">\n",
       "      <th></th>\n",
       "      <th>FPR</th>\n",
       "      <th>TPR</th>\n",
       "      <th>Threshold</th>\n",
       "      <th>F1</th>\n",
       "    </tr>\n",
       "  </thead>\n",
       "  <tbody>\n",
       "    <tr>\n",
       "      <th>4</th>\n",
       "      <td>0.333333</td>\n",
       "      <td>0.75</td>\n",
       "      <td>0.261394</td>\n",
       "      <td>0.705882</td>\n",
       "    </tr>\n",
       "  </tbody>\n",
       "</table>\n",
       "</div>"
      ],
      "text/plain": [
       "        FPR   TPR  Threshold        F1\n",
       "4  0.333333  0.75  0.261394   0.705882"
      ]
     },
     "execution_count": 21,
     "metadata": {},
     "output_type": "execute_result"
    }
   ],
   "source": [
    "ROC_AUC_DF[ROC_AUC_DF.F1 == ROC_AUC_DF.F1.max()]"
   ]
  },
  {
   "cell_type": "code",
   "execution_count": 22,
   "metadata": {},
   "outputs": [
    {
     "data": {
      "text/plain": [
       "0.261393952646951"
      ]
     },
     "execution_count": 22,
     "metadata": {},
     "output_type": "execute_result"
    }
   ],
   "source": [
    "Thr = float(ROC_AUC_DF[ROC_AUC_DF.F1 == ROC_AUC_DF.F1.max()]['Threshold'])\n",
    "Thr"
   ]
  },
  {
   "cell_type": "code",
   "execution_count": 29,
   "metadata": {},
   "outputs": [
    {
     "data": {
      "image/png": "[encoded data removed]",
      "text/plain": [
       "<Figure size 432x288 with 1 Axes>"
      ]
     },
     "metadata": {
      "needs_background": "light"
     },
     "output_type": "display_data"
    }
   ],
   "source": [
    "#rcParams['figure.figsize'] = 10, 7\n",
    "import seaborn as sns\n",
    "import matplotlib.pyplot as plt\n",
    "%matplotlib inline\n",
    "sns.lineplot(x = \"FPR\", y = \"TPR\",  data = ROC_AUC_DF)\n",
    "plt.show()"
   ]
  },
  {
   "cell_type": "code",
   "execution_count": 30,
   "metadata": {},
   "outputs": [],
   "source": [
    "y_pred_LR = []\n",
    "for i in y_prob:\n",
    "    if i >= Thr:\n",
    "        y_pred_LR.append(1)\n",
    "    else:\n",
    "        y_pred_LR.append(0)"
   ]
  },
  {
   "cell_type": "code",
   "execution_count": 31,
   "metadata": {},
   "outputs": [
    {
     "name": "stdout",
     "output_type": "stream",
     "text": [
      "              precision    recall  f1-score   support\n",
      "\n",
      "           0       0.80      0.67      0.73         6\n",
      "           1       0.60      0.75      0.67         4\n",
      "\n",
      "   micro avg       0.70      0.70      0.70        10\n",
      "   macro avg       0.70      0.71      0.70        10\n",
      "weighted avg       0.72      0.70      0.70        10\n",
      "\n"
     ]
    }
   ],
   "source": [
    "print(classification_report(y_test, y_pred_LR))"
   ]
  },
  {
   "cell_type": "code",
   "execution_count": 32,
   "metadata": {},
   "outputs": [],
   "source": [
    "data=df"
   ]
  },
  {
   "cell_type": "code",
   "execution_count": 36,
   "metadata": {},
   "outputs": [
    {
     "data": {
      "text/html": [
       "<div>\n",
       "<style scoped>\n",
       "    .dataframe tbody tr th:only-of-type {\n",
       "        vertical-align: middle;\n",
       "    }\n",
       "\n",
       "    .dataframe tbody tr th {\n",
       "        vertical-align: top;\n",
       "    }\n",
       "\n",
       "    .dataframe thead th {\n",
       "        text-align: right;\n",
       "    }\n",
       "</style>\n",
       "<table border=\"1\" class=\"dataframe\">\n",
       "  <thead>\n",
       "    <tr style=\"text-align: right;\">\n",
       "      <th></th>\n",
       "      <th>Text</th>\n",
       "      <th>Prediction</th>\n",
       "      <th>Test</th>\n",
       "    </tr>\n",
       "  </thead>\n",
       "  <tbody>\n",
       "    <tr>\n",
       "      <th>0</th>\n",
       "      <td>POLÍTICA Y GOBIERNO La Cuarta Transformación ha implicado cambios sustantivos en materia legislativa que fortalecen a las instituciones de gobierno y la toma de decisiones del Ejecutivo Federal.</td>\n",
       "      <td>0</td>\n",
       "      <td>0</td>\n",
       "    </tr>\n",
       "    <tr>\n",
       "      <th>25</th>\n",
       "      <td>• Se concluyeron 48 actos de fiscalización.</td>\n",
       "      <td>1</td>\n",
       "      <td>1</td>\n",
       "    </tr>\n",
       "    <tr>\n",
       "      <th>18</th>\n",
       "      <td>De las acciones 1/ Disponible en el sitio: https://www.gob.mx/cms/uploads/attachment/file/455226/Gui_a_para_la_Elaboracio_n_del_Co_digo_de_Conducta_UEIPPIC-SFP.pdf.realizadas del 1 de diciembre de 2018 al 30 de junio de 2019 destacan las siguientes: • Se recibieron 20,504 denuncias por corrupción o faltas administrativas en toda la APF; se han concluido 3,536 investigaciones y permanecen abiertas 16,387.</td>\n",
       "      <td>0</td>\n",
       "      <td>0</td>\n",
       "    </tr>\n",
       "    <tr>\n",
       "      <th>22</th>\n",
       "      <td>• Asimismo, se impusieron 1,736 sanciones a 1,426 servidores públicos.</td>\n",
       "      <td>0</td>\n",
       "      <td>1</td>\n",
       "    </tr>\n",
       "    <tr>\n",
       "      <th>19</th>\n",
       "      <td>Esto representa un incremento de 38% en el número de denuncias recibidas respecto al periodo comprendido entre diciembre de 2017 y junio de 2018.</td>\n",
       "      <td>1</td>\n",
       "      <td>0</td>\n",
       "    </tr>\n",
       "    <tr>\n",
       "      <th>24</th>\n",
       "      <td>Además, hubo sanciones por incumplimiento de declaración patrimonial, violaciones al procedimiento de contratación y abuso de autoridad, entre otros.</td>\n",
       "      <td>0</td>\n",
       "      <td>0</td>\n",
       "    </tr>\n",
       "    <tr>\n",
       "      <th>16</th>\n",
       "      <td>Entre el 1 de diciembre de 2018 y el 30 de junio de 2019, se han transferido a la SFP —a través de convenios entre las Unidades de Administración y Finanzas— los OIC de 13 secretarías de Estado.</td>\n",
       "      <td>1</td>\n",
       "      <td>1</td>\n",
       "    </tr>\n",
       "    <tr>\n",
       "      <th>23</th>\n",
       "      <td>De ellas, 502 fueron inhabilitaciones, 103 destituciones, 123 sanciones económicas por un total de 674.4 millones de pesos, 353 suspensiones y 655 amonestaciones públicas y privadas, principalmente por negligencia administrativa.</td>\n",
       "      <td>1</td>\n",
       "      <td>0</td>\n",
       "    </tr>\n",
       "    <tr>\n",
       "      <th>30</th>\n",
       "      <td>Entre el 1 de diciembre de 2018 y el 30 de junio de 2019, se determinaron: !2,723 observaciones sobre las cuales los gobiernos de los estados deben realizar los reintegros correspondientes por un monto de 20,206 millones de pesos.</td>\n",
       "      <td>1</td>\n",
       "      <td>1</td>\n",
       "    </tr>\n",
       "    <tr>\n",
       "      <th>5</th>\n",
       "      <td>El Gobierno de México tiene como una prioridad el combate a la corrupción y la impunidad.</td>\n",
       "      <td>0</td>\n",
       "      <td>0</td>\n",
       "    </tr>\n",
       "  </tbody>\n",
       "</table>\n",
       "</div>"
      ],
      "text/plain": [
       "                                                                                                                                                                                                                                                                                                                                                                                                                       Text  \\\n",
       "0   POLÍTICA Y GOBIERNO La Cuarta Transformación ha implicado cambios sustantivos en materia legislativa que fortalecen a las instituciones de gobierno y la toma de decisiones del Ejecutivo Federal.                                                                                                                                                                                                                        \n",
       "25  • Se concluyeron 48 actos de fiscalización.                                                                                                                                                                                                                                                                                                                                                                               \n",
       "18  De las acciones 1/ Disponible en el sitio: https://www.gob.mx/cms/uploads/attachment/file/455226/Gui_a_para_la_Elaboracio_n_del_Co_digo_de_Conducta_UEIPPIC-SFP.pdf.realizadas del 1 de diciembre de 2018 al 30 de junio de 2019 destacan las siguientes: • Se recibieron 20,504 denuncias por corrupción o faltas administrativas en toda la APF; se han concluido 3,536 investigaciones y permanecen abiertas 16,387.   \n",
       "22  • Asimismo, se impusieron 1,736 sanciones a 1,426 servidores públicos.                                                                                                                                                                                                                                                                                                                                                    \n",
       "19  Esto representa un incremento de 38% en el número de denuncias recibidas respecto al periodo comprendido entre diciembre de 2017 y junio de 2018.                                                                                                                                                                                                                                                                         \n",
       "24  Además, hubo sanciones por incumplimiento de declaración patrimonial, violaciones al procedimiento de contratación y abuso de autoridad, entre otros.                                                                                                                                                                                                                                                                     \n",
       "16  Entre el 1 de diciembre de 2018 y el 30 de junio de 2019, se han transferido a la SFP —a través de convenios entre las Unidades de Administración y Finanzas— los OIC de 13 secretarías de Estado.                                                                                                                                                                                                                        \n",
       "23  De ellas, 502 fueron inhabilitaciones, 103 destituciones, 123 sanciones económicas por un total de 674.4 millones de pesos, 353 suspensiones y 655 amonestaciones públicas y privadas, principalmente por negligencia administrativa.                                                                                                                                                                                     \n",
       "30  Entre el 1 de diciembre de 2018 y el 30 de junio de 2019, se determinaron: !2,723 observaciones sobre las cuales los gobiernos de los estados deben realizar los reintegros correspondientes por un monto de 20,206 millones de pesos.                                                                                                                                                                                    \n",
       "5   El Gobierno de México tiene como una prioridad el combate a la corrupción y la impunidad.                                                                                                                                                                                                                                                                                                                                 \n",
       "\n",
       "    Prediction  Test  \n",
       "0   0           0     \n",
       "25  1           1     \n",
       "18  0           0     \n",
       "22  0           1     \n",
       "19  1           0     \n",
       "24  0           0     \n",
       "16  1           1     \n",
       "23  1           0     \n",
       "30  1           1     \n",
       "5   0           0     "
      ]
     },
     "execution_count": 36,
     "metadata": {},
     "output_type": "execute_result"
    }
   ],
   "source": [
    "from sklearn.model_selection import train_test_split\n",
    "X_tr, X_ts, y_tr, y_ts = train_test_split(data.text, data.target, stratify = data.target, test_size = 0.3, random_state = 0)\n",
    "indices = X_ts.index\n",
    "pd.DataFrame({'Text':df['text'][indices], 'Prediction':y_pred_LR, 'Test':y_ts})"
   ]
  },
  {
   "cell_type": "markdown",
   "metadata": {},
   "source": [
    "## SMOTE "
   ]
  },
  {
   "cell_type": "markdown",
   "metadata": {},
   "source": [
    "### Multinomail Naive Bayes"
   ]
  },
  {
   "cell_type": "code",
   "execution_count": 39,
   "metadata": {},
   "outputs": [
    {
     "name": "stdout",
     "output_type": "stream",
     "text": [
      "Statistics for classification are as follows: \n",
      "\n",
      "              precision    recall  f1-score   support\n",
      "\n",
      "           0       0.71      0.83      0.77         6\n",
      "           1       0.67      0.50      0.57         4\n",
      "\n",
      "   micro avg       0.70      0.70      0.70        10\n",
      "   macro avg       0.69      0.67      0.67        10\n",
      "weighted avg       0.70      0.70      0.69        10\n",
      "\n",
      "\n",
      "ROC AUC Score 0.6666666666666666\n"
     ]
    }
   ],
   "source": [
    "import imblearn as imb\n",
    "from imblearn.over_sampling import SMOTE\n",
    "SMT = SMOTE()\n",
    "\n",
    "X_t, y_t = SMT.fit_sample(X_train, y_train)\n",
    "\n",
    "MNB = MultinomialNB().fit(X_t, y_t)\n",
    "y_pred_SMOTE = MNB.predict(X_test)\n",
    "\n",
    "print(\"Statistics for classification are as follows: \\n\\n{}\\n\".format(classification_report(y_test, y_pred_SMOTE)))\n",
    "print(\"ROC AUC Score {}\".format(roc_auc_score(y_test, y_pred_SMOTE)))"
   ]
  },
  {
   "cell_type": "markdown",
   "metadata": {},
   "source": [
    "### Logistic Regression"
   ]
  },
  {
   "cell_type": "code",
   "execution_count": 40,
   "metadata": {},
   "outputs": [
    {
     "name": "stderr",
     "output_type": "stream",
     "text": [
      "C:\\Users\\sneha chikhalekar\\Anaconda3\\lib\\site-packages\\sklearn\\linear_model\\logistic.py:433: FutureWarning: Default solver will be changed to 'lbfgs' in 0.22. Specify a solver to silence this warning.\n",
      "  FutureWarning)\n"
     ]
    }
   ],
   "source": [
    "from sklearn.linear_model import LogisticRegression\n",
    "from sklearn.metrics import roc_curve\n",
    "\n",
    "clfr = LogisticRegression(C = 100)\n",
    "clfr.fit(X_t, y_t)\n",
    "\n",
    "y_pred_proba = clfr.predict_proba(X_test)\n",
    "y_prob = []\n",
    "for i in y_pred_proba:\n",
    "    y_prob.append(i[1])\n",
    "\n",
    "fpr, tpr, thr = roc_curve(y_test, y_prob, pos_label = 1)"
   ]
  },
  {
   "cell_type": "code",
   "execution_count": 41,
   "metadata": {},
   "outputs": [
    {
     "data": {
      "text/html": [
       "<div>\n",
       "<style scoped>\n",
       "    .dataframe tbody tr th:only-of-type {\n",
       "        vertical-align: middle;\n",
       "    }\n",
       "\n",
       "    .dataframe tbody tr th {\n",
       "        vertical-align: top;\n",
       "    }\n",
       "\n",
       "    .dataframe thead th {\n",
       "        text-align: right;\n",
       "    }\n",
       "</style>\n",
       "<table border=\"1\" class=\"dataframe\">\n",
       "  <thead>\n",
       "    <tr style=\"text-align: right;\">\n",
       "      <th></th>\n",
       "      <th>FPR</th>\n",
       "      <th>TPR</th>\n",
       "      <th>Threshold</th>\n",
       "      <th>F1</th>\n",
       "    </tr>\n",
       "  </thead>\n",
       "  <tbody>\n",
       "    <tr>\n",
       "      <th>0</th>\n",
       "      <td>0.000000</td>\n",
       "      <td>0.00</td>\n",
       "      <td>1.854581</td>\n",
       "      <td>0.000000</td>\n",
       "    </tr>\n",
       "    <tr>\n",
       "      <th>1</th>\n",
       "      <td>0.000000</td>\n",
       "      <td>0.25</td>\n",
       "      <td>0.854581</td>\n",
       "      <td>0.400000</td>\n",
       "    </tr>\n",
       "    <tr>\n",
       "      <th>2</th>\n",
       "      <td>0.000000</td>\n",
       "      <td>0.50</td>\n",
       "      <td>0.728552</td>\n",
       "      <td>0.666667</td>\n",
       "    </tr>\n",
       "    <tr>\n",
       "      <th>3</th>\n",
       "      <td>0.333333</td>\n",
       "      <td>0.50</td>\n",
       "      <td>0.326451</td>\n",
       "      <td>0.571429</td>\n",
       "    </tr>\n",
       "    <tr>\n",
       "      <th>4</th>\n",
       "      <td>0.333333</td>\n",
       "      <td>0.75</td>\n",
       "      <td>0.283421</td>\n",
       "      <td>0.705882</td>\n",
       "    </tr>\n",
       "  </tbody>\n",
       "</table>\n",
       "</div>"
      ],
      "text/plain": [
       "        FPR   TPR  Threshold        F1\n",
       "0  0.000000  0.00  1.854581   0.000000\n",
       "1  0.000000  0.25  0.854581   0.400000\n",
       "2  0.000000  0.50  0.728552   0.666667\n",
       "3  0.333333  0.50  0.326451   0.571429\n",
       "4  0.333333  0.75  0.283421   0.705882"
      ]
     },
     "execution_count": 41,
     "metadata": {},
     "output_type": "execute_result"
    }
   ],
   "source": [
    "ROC_AUC_DF = pd.DataFrame({'FPR':fpr, 'TPR':tpr, 'Threshold':thr})\n",
    "ROC_AUC_DF['F1'] = 2 * (1 - ROC_AUC_DF.FPR) * ROC_AUC_DF.TPR / (ROC_AUC_DF.TPR + 1 - ROC_AUC_DF.FPR)\n",
    "ROC_AUC_DF.head()"
   ]
  },
  {
   "cell_type": "code",
   "execution_count": 42,
   "metadata": {},
   "outputs": [
    {
     "data": {
      "text/html": [
       "<div>\n",
       "<style scoped>\n",
       "    .dataframe tbody tr th:only-of-type {\n",
       "        vertical-align: middle;\n",
       "    }\n",
       "\n",
       "    .dataframe tbody tr th {\n",
       "        vertical-align: top;\n",
       "    }\n",
       "\n",
       "    .dataframe thead th {\n",
       "        text-align: right;\n",
       "    }\n",
       "</style>\n",
       "<table border=\"1\" class=\"dataframe\">\n",
       "  <thead>\n",
       "    <tr style=\"text-align: right;\">\n",
       "      <th></th>\n",
       "      <th>FPR</th>\n",
       "      <th>TPR</th>\n",
       "      <th>Threshold</th>\n",
       "      <th>F1</th>\n",
       "    </tr>\n",
       "  </thead>\n",
       "  <tbody>\n",
       "    <tr>\n",
       "      <th>4</th>\n",
       "      <td>0.333333</td>\n",
       "      <td>0.75</td>\n",
       "      <td>0.283421</td>\n",
       "      <td>0.705882</td>\n",
       "    </tr>\n",
       "  </tbody>\n",
       "</table>\n",
       "</div>"
      ],
      "text/plain": [
       "        FPR   TPR  Threshold        F1\n",
       "4  0.333333  0.75  0.283421   0.705882"
      ]
     },
     "execution_count": 42,
     "metadata": {},
     "output_type": "execute_result"
    }
   ],
   "source": [
    "ROC_AUC_DF[ROC_AUC_DF.F1 == ROC_AUC_DF.F1.max()]"
   ]
  },
  {
   "cell_type": "code",
   "execution_count": 44,
   "metadata": {},
   "outputs": [
    {
     "name": "stderr",
     "output_type": "stream",
     "text": [
      "C:\\Users\\sneha chikhalekar\\Anaconda3\\lib\\site-packages\\scipy\\stats\\stats.py:1713: FutureWarning: Using a non-tuple sequence for multidimensional indexing is deprecated; use `arr[tuple(seq)]` instead of `arr[seq]`. In the future this will be interpreted as an array index, `arr[np.array(seq)]`, which will result either in an error or a different result.\n",
      "  return np.add.reduce(sorted[indexer] * weights, axis=axis) / sumval\n"
     ]
    },
    {
     "data": {
      "image/png": "[encoded data removed]",
      "text/plain": [
       "<Figure size 432x288 with 1 Axes>"
      ]
     },
     "metadata": {
      "needs_background": "light"
     },
     "output_type": "display_data"
    }
   ],
   "source": [
    "#rcParams['figure.figsize'] = 10, 7\n",
    "sns.lineplot(x = \"FPR\", y = \"TPR\",  data = ROC_AUC_DF)\n",
    "plt.show()"
   ]
  },
  {
   "cell_type": "code",
   "execution_count": 43,
   "metadata": {},
   "outputs": [],
   "source": [
    "y_pred_SMOTE_LR = []\n",
    "for i in y_prob:\n",
    "    if i >= 0.2834:\n",
    "        y_pred_SMOTE_LR.append(1)\n",
    "    else:\n",
    "        y_pred_SMOTE_LR.append(0)"
   ]
  },
  {
   "cell_type": "code",
   "execution_count": 45,
   "metadata": {},
   "outputs": [
    {
     "name": "stdout",
     "output_type": "stream",
     "text": [
      "              precision    recall  f1-score   support\n",
      "\n",
      "           0       0.80      0.67      0.73         6\n",
      "           1       0.60      0.75      0.67         4\n",
      "\n",
      "   micro avg       0.70      0.70      0.70        10\n",
      "   macro avg       0.70      0.71      0.70        10\n",
      "weighted avg       0.72      0.70      0.70        10\n",
      "\n"
     ]
    }
   ],
   "source": [
    "print(classification_report(y_test, y_pred_SMOTE_LR))"
   ]
  },
  {
   "cell_type": "code",
   "execution_count": 49,
   "metadata": {},
   "outputs": [
    {
     "data": {
      "text/html": [
       "<div>\n",
       "<style scoped>\n",
       "    .dataframe tbody tr th:only-of-type {\n",
       "        vertical-align: middle;\n",
       "    }\n",
       "\n",
       "    .dataframe tbody tr th {\n",
       "        vertical-align: top;\n",
       "    }\n",
       "\n",
       "    .dataframe thead th {\n",
       "        text-align: right;\n",
       "    }\n",
       "</style>\n",
       "<table border=\"1\" class=\"dataframe\">\n",
       "  <thead>\n",
       "    <tr style=\"text-align: right;\">\n",
       "      <th></th>\n",
       "      <th>Review</th>\n",
       "      <th>Prediction</th>\n",
       "      <th>Test</th>\n",
       "    </tr>\n",
       "  </thead>\n",
       "  <tbody>\n",
       "    <tr>\n",
       "      <th>0</th>\n",
       "      <td>POLÍTICA Y GOBIERNO La Cuarta Transformación ha implicado cambios sustantivos en materia legislativa que fortalecen a las instituciones de gobierno y la toma de decisiones del Ejecutivo Federal.</td>\n",
       "      <td>0</td>\n",
       "      <td>0</td>\n",
       "    </tr>\n",
       "    <tr>\n",
       "      <th>25</th>\n",
       "      <td>• Se concluyeron 48 actos de fiscalización.</td>\n",
       "      <td>1</td>\n",
       "      <td>1</td>\n",
       "    </tr>\n",
       "    <tr>\n",
       "      <th>18</th>\n",
       "      <td>De las acciones 1/ Disponible en el sitio: https://www.gob.mx/cms/uploads/attachment/file/455226/Gui_a_para_la_Elaboracio_n_del_Co_digo_de_Conducta_UEIPPIC-SFP.pdf.realizadas del 1 de diciembre de 2018 al 30 de junio de 2019 destacan las siguientes: • Se recibieron 20,504 denuncias por corrupción o faltas administrativas en toda la APF; se han concluido 3,536 investigaciones y permanecen abiertas 16,387.</td>\n",
       "      <td>0</td>\n",
       "      <td>0</td>\n",
       "    </tr>\n",
       "    <tr>\n",
       "      <th>22</th>\n",
       "      <td>• Asimismo, se impusieron 1,736 sanciones a 1,426 servidores públicos.</td>\n",
       "      <td>0</td>\n",
       "      <td>1</td>\n",
       "    </tr>\n",
       "    <tr>\n",
       "      <th>19</th>\n",
       "      <td>Esto representa un incremento de 38% en el número de denuncias recibidas respecto al periodo comprendido entre diciembre de 2017 y junio de 2018.</td>\n",
       "      <td>1</td>\n",
       "      <td>0</td>\n",
       "    </tr>\n",
       "    <tr>\n",
       "      <th>24</th>\n",
       "      <td>Además, hubo sanciones por incumplimiento de declaración patrimonial, violaciones al procedimiento de contratación y abuso de autoridad, entre otros.</td>\n",
       "      <td>0</td>\n",
       "      <td>0</td>\n",
       "    </tr>\n",
       "    <tr>\n",
       "      <th>16</th>\n",
       "      <td>Entre el 1 de diciembre de 2018 y el 30 de junio de 2019, se han transferido a la SFP —a través de convenios entre las Unidades de Administración y Finanzas— los OIC de 13 secretarías de Estado.</td>\n",
       "      <td>1</td>\n",
       "      <td>1</td>\n",
       "    </tr>\n",
       "    <tr>\n",
       "      <th>23</th>\n",
       "      <td>De ellas, 502 fueron inhabilitaciones, 103 destituciones, 123 sanciones económicas por un total de 674.4 millones de pesos, 353 suspensiones y 655 amonestaciones públicas y privadas, principalmente por negligencia administrativa.</td>\n",
       "      <td>1</td>\n",
       "      <td>0</td>\n",
       "    </tr>\n",
       "    <tr>\n",
       "      <th>30</th>\n",
       "      <td>Entre el 1 de diciembre de 2018 y el 30 de junio de 2019, se determinaron: !2,723 observaciones sobre las cuales los gobiernos de los estados deben realizar los reintegros correspondientes por un monto de 20,206 millones de pesos.</td>\n",
       "      <td>1</td>\n",
       "      <td>1</td>\n",
       "    </tr>\n",
       "    <tr>\n",
       "      <th>5</th>\n",
       "      <td>El Gobierno de México tiene como una prioridad el combate a la corrupción y la impunidad.</td>\n",
       "      <td>0</td>\n",
       "      <td>0</td>\n",
       "    </tr>\n",
       "  </tbody>\n",
       "</table>\n",
       "</div>"
      ],
      "text/plain": [
       "                                                                                                                                                                                                                                                                                                                                                                                                                     Review  \\\n",
       "0   POLÍTICA Y GOBIERNO La Cuarta Transformación ha implicado cambios sustantivos en materia legislativa que fortalecen a las instituciones de gobierno y la toma de decisiones del Ejecutivo Federal.                                                                                                                                                                                                                        \n",
       "25  • Se concluyeron 48 actos de fiscalización.                                                                                                                                                                                                                                                                                                                                                                               \n",
       "18  De las acciones 1/ Disponible en el sitio: https://www.gob.mx/cms/uploads/attachment/file/455226/Gui_a_para_la_Elaboracio_n_del_Co_digo_de_Conducta_UEIPPIC-SFP.pdf.realizadas del 1 de diciembre de 2018 al 30 de junio de 2019 destacan las siguientes: • Se recibieron 20,504 denuncias por corrupción o faltas administrativas en toda la APF; se han concluido 3,536 investigaciones y permanecen abiertas 16,387.   \n",
       "22  • Asimismo, se impusieron 1,736 sanciones a 1,426 servidores públicos.                                                                                                                                                                                                                                                                                                                                                    \n",
       "19  Esto representa un incremento de 38% en el número de denuncias recibidas respecto al periodo comprendido entre diciembre de 2017 y junio de 2018.                                                                                                                                                                                                                                                                         \n",
       "24  Además, hubo sanciones por incumplimiento de declaración patrimonial, violaciones al procedimiento de contratación y abuso de autoridad, entre otros.                                                                                                                                                                                                                                                                     \n",
       "16  Entre el 1 de diciembre de 2018 y el 30 de junio de 2019, se han transferido a la SFP —a través de convenios entre las Unidades de Administración y Finanzas— los OIC de 13 secretarías de Estado.                                                                                                                                                                                                                        \n",
       "23  De ellas, 502 fueron inhabilitaciones, 103 destituciones, 123 sanciones económicas por un total de 674.4 millones de pesos, 353 suspensiones y 655 amonestaciones públicas y privadas, principalmente por negligencia administrativa.                                                                                                                                                                                     \n",
       "30  Entre el 1 de diciembre de 2018 y el 30 de junio de 2019, se determinaron: !2,723 observaciones sobre las cuales los gobiernos de los estados deben realizar los reintegros correspondientes por un monto de 20,206 millones de pesos.                                                                                                                                                                                    \n",
       "5   El Gobierno de México tiene como una prioridad el combate a la corrupción y la impunidad.                                                                                                                                                                                                                                                                                                                                 \n",
       "\n",
       "    Prediction  Test  \n",
       "0   0           0     \n",
       "25  1           1     \n",
       "18  0           0     \n",
       "22  0           1     \n",
       "19  1           0     \n",
       "24  0           0     \n",
       "16  1           1     \n",
       "23  1           0     \n",
       "30  1           1     \n",
       "5   0           0     "
      ]
     },
     "execution_count": 49,
     "metadata": {},
     "output_type": "execute_result"
    }
   ],
   "source": [
    "from sklearn.model_selection import train_test_split\n",
    "X_tr, X_ts, y_tr, y_ts = train_test_split(df.text, df.target, stratify = df.target, test_size = 0.3, random_state = 0)\n",
    "indices = X_ts.index\n",
    "pd.DataFrame({'Review':df['text'][indices], 'Prediction':y_pred_SMOTE_LR, 'Test':y_ts})"
   ]
  },
  {
   "cell_type": "markdown",
   "metadata": {},
   "source": [
    "Performance increases after SMOTING"
   ]
  },
  {
   "cell_type": "code",
   "execution_count": null,
   "metadata": {},
   "outputs": [],
   "source": []
  }
 ],
 "metadata": {
  "kernelspec": {
   "display_name": "Python 3",
   "language": "python",
   "name": "python3"
  },
  "language_info": {
   "codemirror_mode": {
    "name": "ipython",
    "version": 3
   },
   "file_extension": ".py",
   "mimetype": "text/x-python",
   "name": "python",
   "nbconvert_exporter": "python",
   "pygments_lexer": "ipython3",
   "version": "3.7.1"
  },
  "toc": {
   "base_numbering": 1,
   "nav_menu": {},
   "number_sections": true,
   "sideBar": true,
   "skip_h1_title": false,
   "title_cell": "Table of Contents",
   "title_sidebar": "Contents",
   "toc_cell": false,
   "toc_position": {},
   "toc_section_display": true,
   "toc_window_display": true
  }
 },
 "nbformat": 4,
 "nbformat_minor": 2
}
